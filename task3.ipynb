{
 "cells": [
  {
   "cell_type": "markdown",
   "metadata": {},
   "source": [
    "Calculating the Kohen's Kappa from the CSV file for NLP"
   ]
  },
  {
   "cell_type": "code",
   "execution_count": 1,
   "metadata": {},
   "outputs": [
    {
     "ename": "ModuleNotFoundError",
     "evalue": "No module named 'sklearn'",
     "output_type": "error",
     "traceback": [
      "\u001b[1;31m---------------------------------------------------------------------------\u001b[0m",
      "\u001b[1;31mModuleNotFoundError\u001b[0m                       Traceback (most recent call last)",
      "Cell \u001b[1;32mIn[1], line 4\u001b[0m\n\u001b[0;32m      2\u001b[0m \u001b[38;5;28;01mimport\u001b[39;00m\u001b[38;5;250m \u001b[39m\u001b[38;5;21;01mnumpy\u001b[39;00m\u001b[38;5;250m \u001b[39m\u001b[38;5;28;01mas\u001b[39;00m\u001b[38;5;250m \u001b[39m\u001b[38;5;21;01mnp\u001b[39;00m\n\u001b[0;32m      3\u001b[0m \u001b[38;5;28;01mimport\u001b[39;00m\u001b[38;5;250m \u001b[39m\u001b[38;5;21;01mmatplotlib\u001b[39;00m\u001b[38;5;21;01m.\u001b[39;00m\u001b[38;5;21;01mpyplot\u001b[39;00m\u001b[38;5;250m \u001b[39m\u001b[38;5;28;01mas\u001b[39;00m\u001b[38;5;250m \u001b[39m\u001b[38;5;21;01mplt\u001b[39;00m\n\u001b[1;32m----> 4\u001b[0m \u001b[38;5;28;01mfrom\u001b[39;00m\u001b[38;5;250m \u001b[39m\u001b[38;5;21;01msklearn\u001b[39;00m\u001b[38;5;21;01m.\u001b[39;00m\u001b[38;5;21;01mmetrics\u001b[39;00m\u001b[38;5;250m \u001b[39m\u001b[38;5;28;01mimport\u001b[39;00m cohen_kappa_score\n",
      "\u001b[1;31mModuleNotFoundError\u001b[0m: No module named 'sklearn'"
     ]
    }
   ],
   "source": [
    "import pandas as pd\n",
    "import numpy as np\n",
    "import matplotlib.pyplot as plt\n",
    "from sklearn.metrics import cohen_kappa_score"
   ]
  },
  {
   "cell_type": "code",
   "execution_count": 2,
   "metadata": {},
   "outputs": [],
   "source": [
    "from pandas import json_normalize\n",
    "annotator1=pd.read_json(\"NLP_samarth.json\")\n",
    "annotator2=pd.read_json(\"NLP_Praneel.json\")"
   ]
  },
  {
   "cell_type": "code",
   "execution_count": 20,
   "metadata": {},
   "outputs": [],
   "source": [
    "annotations=pd.DataFrame(columns=['word','annotator1','annotator2'])"
   ]
  },
  {
   "cell_type": "code",
   "execution_count": 21,
   "metadata": {},
   "outputs": [
    {
     "data": {
      "text/html": [
       "<div>\n",
       "<style scoped>\n",
       "    .dataframe tbody tr th:only-of-type {\n",
       "        vertical-align: middle;\n",
       "    }\n",
       "\n",
       "    .dataframe tbody tr th {\n",
       "        vertical-align: top;\n",
       "    }\n",
       "\n",
       "    .dataframe thead th {\n",
       "        text-align: right;\n",
       "    }\n",
       "</style>\n",
       "<table border=\"1\" class=\"dataframe\">\n",
       "  <thead>\n",
       "    <tr style=\"text-align: right;\">\n",
       "      <th></th>\n",
       "      <th>word</th>\n",
       "      <th>annotator1</th>\n",
       "      <th>annotator2</th>\n",
       "    </tr>\n",
       "  </thead>\n",
       "  <tbody>\n",
       "  </tbody>\n",
       "</table>\n",
       "</div>"
      ],
      "text/plain": [
       "Empty DataFrame\n",
       "Columns: [word, annotator1, annotator2]\n",
       "Index: []"
      ]
     },
     "execution_count": 21,
     "metadata": {},
     "output_type": "execute_result"
    }
   ],
   "source": [
    "annotations"
   ]
  },
  {
   "cell_type": "code",
   "execution_count": 10,
   "metadata": {},
   "outputs": [
    {
     "data": {
      "text/plain": [
       "dict"
      ]
     },
     "execution_count": 10,
     "metadata": {},
     "output_type": "execute_result"
    }
   ],
   "source": [
    "# annotator2[\"annotations\"][0][0]['result'][1]['value']['labels'][0]\n",
    "(annotator2[\"annotations\"][0][0]['result'][0])"
   ]
  },
  {
   "cell_type": "code",
   "execution_count": 128,
   "metadata": {},
   "outputs": [
    {
     "data": {
      "text/plain": [
       "'X'"
      ]
     },
     "execution_count": 128,
     "metadata": {},
     "output_type": "execute_result"
    }
   ],
   "source": [
    "annotator1[\"annotations\"][1][0]['result'][20]['value']['labels'][0]"
   ]
  },
  {
   "cell_type": "code",
   "execution_count": 130,
   "metadata": {},
   "outputs": [
    {
     "ename": "TypeError",
     "evalue": "string indices must be integers, not 'str'",
     "output_type": "error",
     "traceback": [
      "\u001b[1;31m---------------------------------------------------------------------------\u001b[0m",
      "\u001b[1;31mTypeError\u001b[0m                                 Traceback (most recent call last)",
      "Cell \u001b[1;32mIn[130], line 1\u001b[0m\n\u001b[1;32m----> 1\u001b[0m \u001b[38;5;28mtype\u001b[39m(\u001b[43m[\u001b[49m\u001b[38;5;124;43m\"\u001b[39;49m\u001b[38;5;124;43mannotations\u001b[39;49m\u001b[38;5;124;43m\"\u001b[39;49m\u001b[43m]\u001b[49m\u001b[43m[\u001b[49m\u001b[38;5;241;43m0\u001b[39;49m\u001b[43m]\u001b[49m\u001b[43m[\u001b[49m\u001b[38;5;241;43m0\u001b[39;49m\u001b[43m]\u001b[49m\u001b[43m[\u001b[49m\u001b[38;5;124;43m'\u001b[39;49m\u001b[38;5;124;43mresult\u001b[39;49m\u001b[38;5;124;43m'\u001b[39;49m\u001b[43m]\u001b[49m)\n",
      "\u001b[1;31mTypeError\u001b[0m: string indices must be integers, not 'str'"
     ]
    }
   ],
   "source": [
    "type([\"annotations\"][0][0]['result'])"
   ]
  },
  {
   "cell_type": "code",
   "execution_count": 18,
   "metadata": {},
   "outputs": [
    {
     "name": "stdout",
     "output_type": "stream",
     "text": [
      "hi\n"
     ]
    }
   ],
   "source": [
    "l1=[]\n",
    "l2=[]\n",
    "for i in range(20):\n",
    "    d=dict()\n",
    "    d1=dict()\n",
    "    for j in range(len(annotator1[\"annotations\"][i][0]['result'])):\n",
    "        d[annotator1[\"annotations\"][i][0]['result'][j]['value']['text']]=annotator1[\"annotations\"][i][0]['result'][j]['value']['labels'][0]\n",
    "        d1[annotator2[\"annotations\"][i][0]['result'][j]['value']['text']]=annotator2[\"annotations\"][i][0]['result'][j]['value']['labels'][0] \n",
    "    l1.append(d)\n",
    "    l2.append(d1)\n",
    "     \n",
    "\n",
    "print(\"hi\")\n"
   ]
  },
  {
   "cell_type": "code",
   "execution_count": 19,
   "metadata": {},
   "outputs": [
    {
     "name": "stdout",
     "output_type": "stream",
     "text": [
      "[{'आज': 'ADJ', 'भारत': 'PROPN', 'FDI': 'PROPN', 'Confidence': 'ADJ', 'Index': 'NOUN', 'में': 'ADP', 'top': 'ADV', 'two': 'ADJ', 'emerging': 'ADJ', 'market': 'NOUN', 'performers': 'ADJ', 'से': 'VERB', 'एक': 'ADJ', 'है': 'VERB', '।': 'X'}, {'मुझे': 'PRON', 'बताया': 'VERB', 'गया': 'PART', 'है': 'VERB', 'कि': 'CONJ', 'Department': 'NOUN', 'of': 'ADP', 'Commerce': 'NOUN', 'इस': 'DET', 'दिशा': 'NOUN', 'में': 'ADP', 'एक': 'DET', 'Online': 'ADJ', 'Portal': 'NOUN', 'पर': 'ADP', 'भी': 'NOUN', 'काम': 'NOUN', 'कर': 'VERB', 'रहा': 'PART', '।': 'X'}, {'देश': 'NOUN', 'के': 'ADP', 'यूनिवर्सिटी': 'NOUN', 'कॉलेज': 'NOUN', 'और': 'CONJ', 'R&D': 'ADJ', 'Institutions': 'NOUN', 'में': 'ADP', 'बेहतर': 'ADJ', 'Synergy': 'NOUN', 'आज': 'ADV', 'हमारे': 'PRON', 'की': 'ADP', 'सबसे': 'ADV', 'बड़ी': 'ADJ', 'जरूरत': 'NOUN', 'बन': 'VERB', 'गई': 'PART', 'है': 'VERB', '।': 'VERB', ',': 'X'}, {'पहली': 'ADJ', 'बार': 'NOUN', 'देश': 'NOUN', 'के': 'ADP', 'स्कूलों': 'NOUN', 'में': 'ADP', 'Atal': 'PROPN', 'Tinkering': 'ADJ', 'Labs': 'NOUN', 'से': 'ADP', 'लेकर': 'CONJ', 'उच्च': 'ADJ', 'संस्थानों': 'NOUN', 'Incubation': 'ADJ', 'Centers': 'NOUN', 'तक': 'ADP', 'पर': 'ADP', 'फोकस': 'NOUN', 'किया': 'VERB', 'जा': 'PART', 'रहा': 'PART', 'है': 'VERB', '।': 'X'}, {'IIT Kharagpur': 'PROPN', 'IIT Delhi': 'PROPN', ',': 'X', 'और': 'CONJ', 'BHU': 'PROPN', 'में': 'ADP', 'तीन': 'NUM', 'Sophisticated': 'ADJ', 'Analytical': 'ADJ', 'Technical': 'ADJ', 'Help': 'ADJ', 'Institutes': 'NOUN', '(': 'X', ')': 'X', 'SATHI': 'PROPN', 'भी': 'ADV', 'सेवा': 'NOUN', 'दे': 'VERB', 'रहे': 'PART', 'हैं': 'VERB', '।': 'X'}, {'देश': 'NOUN', 'में': 'ADP', 'पहली': 'ADJ', 'बार': 'NOUN', 'National': 'ADJ', 'Research': 'ADJ', 'Foundation': 'NOUN', 'का': 'ADP', 'निर्माण': 'NOUN', 'किया': 'VERB', 'जा': 'PART', 'रहा': 'PART', 'है': 'VERB', '।': 'X'}, {'इससे': 'PRON', 'research': 'NOUN', 'से': 'ADP', 'जुड़े': 'ADJ', 'संस्थानों': 'NOUN', 'के': 'ADP', 'Governance': 'ADJ', 'Structure': 'NOUN', 'लेकर': 'CONJ', 'R&D': 'PROPN', ',': 'X', 'Academia': 'PROPN', 'और': 'CONJ', 'Industry': 'PROPN', 'की': 'ADP', 'Linkage': 'NOUN', 'को': 'ADP', 'बल': 'NOUN', 'मिलेगा': 'VERB', '।': 'X'}, {'Future': 'ADJ', 'Fuel': 'NOUN', 'Green': 'ADJ', 'Energy': 'NOUN', ',': 'X', 'हमारी': 'PRON', 'में': 'ADP', 'आत्मनिर्भरता': 'NOUN', 'के': 'ADP', 'लिए': 'ADP', 'बहुत': 'ADV', 'ज़रूरी': 'ADJ', 'है': 'VERB', '।': 'X'}, {'बजट': 'NOUN', 'में': 'ADP', 'घोषित': 'ADJ', 'National Language Translation Mission': 'PROPN', 'से': 'ADP', 'इसके': 'PRON', 'लिए': 'ADP', 'बहुत': 'ADV', 'प्रोत्साहन': 'NOUN', 'मिलेगा': 'VERB', '।': 'X'}, {'उन्\\u200dहोंने': 'PRON', 'यह': 'DET', 'institute': 'NOUN', 'बनाई': 'VERB', 'थी': 'VERB', 'उस': 'DET', 'institution': 'NOUN', 'का': 'ADP', 'नाम': 'NOUN', 'विवेकानंद Agriculture Research Institution': 'PROPN', 'के': 'ADP', 'से': 'ADP', 'रखा': 'VERB', 'था': 'X', '।': 'X'}, {'African Continental Free Trade Area': 'PROPN', 'की': 'ADP', 'महत्वपूर्ण': 'ADJ', 'पहल': 'NOUN', 'के': 'ADP', 'लिए': 'ADP', ',': 'X', 'मैं': 'PRON', 'सभी': 'DET', 'अफ़्रीकी': 'ADJ', 'देशों': 'NOUN', 'को': 'ADP', 'हार्दिक': 'ADJ', 'बधाई': 'NOUN', 'देता': 'VERB', 'हूँ': 'VERB', '।': 'X'}, {'Free Trade and Commerce': 'PROPN', 'ने': 'ADP', 'पिछले': 'ADJ', 'तीन': 'NUM', 'दशकों': 'NOUN', 'में': 'ADP', 'hundreds': 'NUM', 'of': 'ADP', 'millions': 'NOUN', 'लोगों': 'NOUN', 'को': 'ADP', 'गरीबी': 'NOUN', 'से': 'ADP', 'बाहर': 'ADV', 'निकाला': 'VERB', 'है': 'VERB', '।': 'X'}, {'Carbon': 'PROPN', 'Negative': 'ADJ', 'राज्यों': 'NOUN', 'की': 'ADP', 'पहचान': 'NOUN', 'देश': 'NOUN', 'के': 'ADP', 'इस': 'DET', 'क्षेत्र': 'NOUN', 'को': 'ADP', 'पूरे': 'ADJ', 'विश्व': 'NOUN', 'मानचित्र': 'NOUN', 'पर': 'ADP', 'एक': 'DET', 'बड़े': 'ADJ', 'brand': 'NOUN', 'तौर': 'NOUN', 'स्थापित': 'VERB', 'कर': 'VERB', 'सकती': 'VERB', 'है': 'VERB', '।': 'X'}, {'North-East': 'PROPN', 'में': 'ADP', 'Sports': 'ADJ', 'की': 'ADP', 'अपार': 'ADJ', 'क्षमता': 'NOUN', 'को': 'ADP', 'देखते': 'VERB', 'हुए': 'PART', 'ही': 'ADV', 'केंद्र': 'NOUN', 'सरकार': 'NOUN', 'इस': 'DET', 'क्षेत्र': 'NOUN', ',': 'X', 'इंफाल': 'PROPN', 'University': 'NOUN', 'भी': 'ADV', 'स्थापना': 'NOUN', 'कर': 'VERB', 'रही': 'VERB', 'है': 'VERB', '।': 'X'}, {'भारत': 'PROPN', 'के': 'ADP', 'अंदर': 'ADP', 'Solar Energy': 'PROPN', 'संबंध': 'NOUN', 'में': 'ADP', 'अलग': 'ADJ', 'तरीके': 'NOUN', 'से': 'ADP', 'सोचने': 'VERB', 'लिए': 'ADP', 'देश': 'NOUN', 'की': 'ADP', 'सभी': 'DET', 'सरकारों': 'NOUN', 'को': 'ADP', 'प्रेरित': 'VERB', 'किया': 'VERB', 'था': 'VERB', '।': 'X'}, {'भारत': 'PROPN', 'के': 'ADP', 'लिए': 'ADP', 'सिंगापुर': 'PROPN', 'Foreign Direct Investment': 'PROPN', 'का': 'ADP', 'एक': 'DET', 'महत्वपूर्ण': 'ADJ', 'स्रोत': 'NOUN', 'है': 'VERB', '।': 'X'}, {'कल': 'ADV', 'शाम': 'NOUN', 'सिंगापुर': 'PROPN', 'की': 'ADP', 'महत्वपूर्ण': 'ADJ', 'कंपनियों': 'NOUN', 'के': 'ADP', 'CEOs': 'PROPN', 'साथ': 'ADP', 'round table': 'NOUN', 'पर': 'ADP', 'मुझे': 'PRON', 'भारत': 'PROPN', 'प्रति': 'ADP', 'उनके': 'PRON', 'विश्वास': 'NOUN', 'को': 'ADP', 'देखकर': 'VERB', 'बहुत': 'ADJ', 'प्रसन्नता': 'NOUN', 'हुई': 'VERB', '।': 'X'}, {'RuPay': 'PROPN', 'BHIM': 'PROPN', ',': 'X', 'और': 'CONJ', 'UPI-आधारित': 'ADJ', 'remittance app': 'NOUN', 'का': 'ADP', 'सिंगापुर': 'PROPN', 'में': 'ADP', 'कल': 'ADV', 'शाम': 'ADJ', 'अंतर्राष्ट्रीय': 'ADJ', 'launch': 'NOUN', 'Digital India': 'PROPN', 'तथा': 'CONJ', 'हमारी': 'PRON', 'भागीदारी': 'NOUN', 'की': 'ADP', 'नवीनता': 'NOUN', 'भावना': 'NOUN', 'को': 'ADP', 'दर्शाता': 'VERB', 'है': 'VERB', '।': 'X'}, {'सरकार': 'NOUN', 'आने': 'VERB', 'वाले': 'ADJ', 'दिनों': 'NOUN', 'में': 'ADP', 'Maritime University': 'PROPN', 'बनाने': 'VERB', 'और': 'CONJ', 'लोथल': 'PROPN', 'Maritime Museum': 'PROPN', 'पर': 'ADP', 'भी': 'ADV', 'बहुत': 'ADV', 'विस्\\u200dतार': 'NOUN', 'से': 'ADP', 'काम': 'NOUN', 'इन': 'DET', 'चल': 'VERB', 'रहा': 'PART', 'है': 'VERB', '।': 'X'}, {'साथियों': 'NOUN', ',': 'X', 'सरकार': 'NOUN', 'भावनगर': 'PROPN', 'से': 'ADP', 'Alang-Sosiya Ship Recycling Yard': 'PROPN', 'तक': 'ADP', 'के': 'ADP', 'लिए': 'ADP', 'एक': 'DET', 'alternative': 'ADJ', 'road': 'NOUN', 'भी': 'ADV', 'उस': 'PRON', 'पर': 'ADP', 'काम': 'NOUN', 'कर': 'VERB', 'रही': 'VERB', 'है': 'VERB', '।': 'X'}]\n",
      "[{'आज': 'ADJ', 'भारत': 'PROPN', 'FDI': 'PROPN', 'Confidence': 'ADJ', 'Index': 'NOUN', 'में': 'ADP', 'top': 'ADV', 'two': 'ADJ', 'emerging': 'ADJ', 'market': 'NOUN', 'performers': 'NOUN', 'से': 'ADP', 'एक': 'ADJ', 'है': 'VERB', '।': 'X'}, {'मुझे': 'PRON', 'बताया': 'VERB', 'गया': 'VERB', 'है': 'VERB', 'कि': 'CONJ', 'Department': 'NOUN', 'Commerce': 'NOUN', 'of': 'ADP', 'इस': 'ADJ', 'दिशा': 'NOUN', 'में': 'ADP', 'एक': 'NUM', 'Online': 'ADJ', 'Portal': 'NOUN', 'पर': 'ADP', 'भी': 'ADV', 'काम': 'NOUN', 'कर': 'VERB', 'रहा': 'VERB', '।': 'X'}, {'देश': 'NOUN', 'के': 'ADP', 'यूनिवर्सिटी': 'NOUN', 'कॉलेज': 'NOUN', 'और': 'CONJ', 'R&D': 'ADJ', 'Institutions': 'NOUN', 'में': 'ADP', 'बेहतर': 'ADJ', 'Synergy': 'NOUN', 'आज': 'ADV', ',': 'X', 'हमारे': 'ADJ', 'की': 'ADP', 'सबसे': 'ADV', 'बड़ी': 'ADJ', 'जरूरत': 'NOUN', 'बन': 'VERB', 'गई': 'VERB', 'है': 'VERB', '।': 'X'}, {'पहली': 'ADJ', 'बार': 'NOUN', 'देश': 'NOUN', 'के': 'ADP', 'स्कूलों': 'NOUN', 'में': 'ADP', 'Atal': 'PROPN', 'Tinkering': 'NOUN', 'Labs': 'NOUN', 'से': 'ADP', 'लेकर': 'VERB', 'उच्च': 'ADJ', 'संस्थानों': 'NOUN', 'Incubation': 'NOUN', 'Centers': 'NOUN', 'तक': 'ADP', 'पर': 'ADP', 'फोकस': 'NOUN', 'किया': 'VERB', 'जा': 'VERB', 'रहा': 'VERB', 'है': 'VERB', '।': 'X'}, {'IIT Kharagpur': 'PROPN', ',': 'PROPN', 'IIT Delhi': 'PROPN', 'और': 'CONJ', 'BHU': 'PROPN', 'में': 'PART', 'तीन': 'NUM', 'Sophisticated': 'ADJ', 'Analytical': 'PRON_WH', 'Technical': 'ADJ', 'Help': 'VERB', 'Institutes': 'NOUN', 'भी': 'ADV', 'सेवा': 'VERB', 'दे': 'VERB', 'रहे': 'VERB', 'हैं': 'VERB', '।': 'X', 'SATHI': 'PROPN', '(': 'X', ')': 'X'}, {'देश': 'NOUN', 'में': 'ADP', 'पहली': 'NUM', 'बार': 'NOUN', 'National': 'ADJ', 'Research': 'NOUN', 'Foundation': 'NOUN', 'का': 'ADP', 'निर्माण': 'VERB', 'किया': 'VERB', 'जा': 'VERB', 'रहा': 'VERB', 'है': 'VERB', '।': 'X'}, {'research': 'NOUN', 'से': 'ADP', 'जुड़े': 'ADJ', 'संस्थानों': 'NOUN', 'के': 'ADP', 'Governance': 'NOUN', 'Structure': 'NOUN', 'लेकर': 'ADP', 'R&D': 'ADJ', ',': 'X', 'Academia': 'NOUN', 'और': 'CONJ', 'Industry': 'NOUN', 'की': 'ADP', 'Linkage': 'NOUN', 'को': 'ADP', 'बल': 'NOUN', 'मिलेगा': 'VERB', '।': 'X', 'इससे': 'PRON'}, {'Future': 'ADJ', 'Fuel': 'NOUN', ',': 'X', 'Green': 'ADJ', 'Energy': 'NOUN', 'हमारी': 'ADJ', 'में': 'ADP', 'आत्मनिर्भरता': 'NOUN', 'के': 'ADP', 'लिए': 'ADP', 'बहुत': 'ADP', 'ज़रूरी': 'ADJ', 'है': 'VERB', '।': 'X'}, {'बजट': 'NOUN', 'में': 'ADP', 'घोषित': 'VERB', 'National Language Translation Mission': 'PROPN', 'से': 'ADP', 'इसके': 'DET', 'लिए': 'ADP', 'बहुत': 'ADV', 'प्रोत्साहन': 'VERB', 'मिलेगा': 'VERB', '।': 'X'}, {'उन्\\u200dहोंने': 'PRON', 'यह': 'PRON', 'institute': 'NOUN', 'बनाई': 'VERB', 'थी': 'VERB', 'उस': 'PRON', 'institution': 'NOUN', 'का': 'ADJ', 'नाम': 'NOUN', 'विवेकानंद Agriculture Research Institution': 'PROPN', 'के': 'ADP', 'से': 'DET', 'रखा': 'PRON_WH', 'था': 'VERB', '।': 'X'}, {'African Continental Free Trade Area': 'PROPN', 'की': 'ADP', 'महत्वपूर्ण': 'ADJ', 'पहल': 'NOUN', 'के': 'ADV', 'लिए': 'ADP', ',': 'X', 'मैं': 'PRON', 'सभी': 'PRON', 'अफ़्रीकी': 'PROPN', 'देशों': 'NOUN', 'को': 'ADP', 'बधाई': 'ADJ', 'देता': 'VERB', 'हूँ': 'VERB', '।': 'X', 'हार्दिक': 'ADJ'}, {'Free Trade and Commerce': 'PROPN', 'ने': 'ADP', 'पिछले': 'ADJ', 'तीन': 'NUM', 'दशकों': 'NOUN', 'में': 'ADP', 'hundreds': 'NUM', 'of': 'ADP', 'millions': 'NUM', 'लोगों': 'NOUN', 'को': 'ADP', 'गरीबी': 'ADJ', 'से': 'ADP', 'बाहर': 'ADV', 'निकाला': 'VERB', 'है': 'VERB', '।': 'X'}, {'Carbon': 'NOUN', 'Negative': 'PART_NEG', 'राज्यों': 'NOUN', 'की': 'ADP', 'पहचान': 'NOUN', 'देश': 'NOUN', 'के': 'ADP', 'इस': 'PRON', 'क्षेत्र': 'NOUN', 'को': 'ADP', 'पूरे': 'ADJ', 'विश्व': 'NOUN', 'मानचित्र': 'NOUN', 'पर': 'ADP', 'एक': 'NUM', 'बड़े': 'ADJ', 'brand': 'NOUN', 'तौर': 'NOUN', 'स्थापित': 'ADJ', 'कर': 'VERB', 'सकती': 'VERB', 'है': 'VERB', '।': 'X'}, {'North-East': 'PROPN', 'में': 'ADP', 'Sports': 'NOUN', 'की': 'ADP', 'अपार': 'ADJ', 'क्षमता': 'NOUN', 'को': 'ADP', 'देखते': 'VERB', 'हुए': 'VERB', 'ही': 'ADV', 'केंद्र': 'NOUN', 'सरकार': 'NOUN', 'इस': 'PRON', 'क्षेत्र': 'NOUN', ',': 'X', 'इंफाल': 'PROPN', 'University': 'NOUN', 'भी': 'ADV', 'स्थापना': 'NOUN', 'कर': 'VERB', 'रही': 'PRON_WH', 'है': 'VERB', '।': 'X'}, {'भारत': 'PROPN', 'के': 'ADP', 'अंदर': 'ADP', 'Solar Energy': 'PROPN', 'संबंध': 'NOUN', 'में': 'ADP', 'अलग': 'VERB', 'तरीके': 'NOUN', 'से': 'ADP', 'सोचने': 'VERB', 'लिए': 'ADP', 'देश': 'NOUN', 'की': 'ADP', 'सभी': 'PRON', 'सरकारों': 'NOUN', 'को': 'ADP', 'प्रेरित': 'ADJ', 'किया': 'VERB', 'था': 'VERB', '।': 'X'}, {'भारत': 'PROPN', 'के': 'ADP', 'लिए': 'ADP', 'सिंगापुर': 'PROPN', 'Foreign Direct Investment': 'NOUN', 'का': 'ADP', 'एक': 'NUM', 'महत्वपूर्ण': 'ADJ', 'स्रोत': 'NOUN', 'है': 'VERB', '।': 'X'}, {'कल': 'ADV', 'शाम': 'NOUN', 'सिंगापुर': 'PROPN', 'की': 'ADP', 'महत्वपूर्ण': 'ADJ', 'कंपनियों': 'NOUN', 'के': 'ADP', 'CEOs': 'NOUN', 'साथ': 'ADP', 'round table': 'NOUN', 'पर': 'ADP', 'मुझे': 'PRON', 'भारत': 'PROPN', 'प्रति': 'ADP', 'उनके': 'PRON', 'विश्वास': 'NOUN', 'को': 'ADP', 'देखकर': 'VERB', 'बहुत': 'ADV', 'प्रसन्नता': 'VERB', 'हुई': 'VERB', '।': 'X'}, {'RuPay': 'PROPN', ',': 'X', 'BHIM': 'NOUN', 'और': 'CONJ', 'UPI-आधारित': 'NOUN', 'remittance app': 'PROPN', 'का': 'ADP', 'सिंगापुर': 'PROPN', 'में': 'ADP', 'कल': 'ADV', 'शाम': 'NOUN', 'अंतर्राष्ट्रीय': 'NOUN', 'launch': 'VERB', 'Digital India': 'PROPN', 'तथा': 'CONJ', 'हमारी': 'PRON', 'भागीदारी': 'NOUN', 'की': 'ADP', 'नवीनता': 'ADJ', 'भावना': 'NOUN', 'को': 'ADP', 'दर्शाता': 'VERB', 'है': 'VERB', '।': 'X'}, {'सरकार': 'NOUN', 'आने': 'VERB', 'वाले': 'VERB', 'दिनों': 'NOUN', 'में': 'ADP', 'Maritime University': 'PROPN', 'Maritime Museum': 'PROPN', 'बनाने': 'VERB', 'और': 'CONJ', 'लोथल': 'PROPN', 'पर': 'ADP', 'भी': 'ADP', 'बहुत': 'ADJ', 'विस्\\u200dतार': 'NOUN', 'से': 'ADP', 'काम': 'NOUN', 'इन': 'PRON', 'चल': 'VERB', 'रहा': 'VERB', 'है': 'VERB', '।': 'X'}, {'साथियों': 'NOUN', ',': 'X', 'सरकार': 'NOUN', 'भावनगर': 'PROPN', 'से': 'ADP', 'Alang-Sosiya Ship Recycling Yard': 'PROPN', 'तक': 'ADP', 'के': 'ADP', 'लिए': 'ADP', 'एक': 'DET', 'alternative': 'ADJ', 'road': 'NOUN', 'भी': 'ADV', 'उस': 'PRON', 'पर': 'ADP', 'काम': 'NOUN', 'कर': 'VERB', 'रही': 'VERB', 'है': 'VERB', '।': 'X'}]\n"
     ]
    }
   ],
   "source": [
    "print((l1))\n",
    "print((l2))"
   ]
  },
  {
   "cell_type": "code",
   "execution_count": 23,
   "metadata": {},
   "outputs": [],
   "source": [
    "for i in range(20):\n",
    "    for j in l1[i]:\n",
    "        row={'word':j,'annotator1':l1[i][j],'annotator2':l2[i][j]}\n",
    "        annotations.loc[len(annotations)]=row\n",
    "        "
   ]
  },
  {
   "cell_type": "code",
   "execution_count": 24,
   "metadata": {},
   "outputs": [
    {
     "data": {
      "text/html": [
       "<div>\n",
       "<style scoped>\n",
       "    .dataframe tbody tr th:only-of-type {\n",
       "        vertical-align: middle;\n",
       "    }\n",
       "\n",
       "    .dataframe tbody tr th {\n",
       "        vertical-align: top;\n",
       "    }\n",
       "\n",
       "    .dataframe thead th {\n",
       "        text-align: right;\n",
       "    }\n",
       "</style>\n",
       "<table border=\"1\" class=\"dataframe\">\n",
       "  <thead>\n",
       "    <tr style=\"text-align: right;\">\n",
       "      <th></th>\n",
       "      <th>word</th>\n",
       "      <th>annotator1</th>\n",
       "      <th>annotator2</th>\n",
       "    </tr>\n",
       "  </thead>\n",
       "  <tbody>\n",
       "    <tr>\n",
       "      <th>0</th>\n",
       "      <td>आज</td>\n",
       "      <td>ADJ</td>\n",
       "      <td>ADJ</td>\n",
       "    </tr>\n",
       "    <tr>\n",
       "      <th>1</th>\n",
       "      <td>भारत</td>\n",
       "      <td>PROPN</td>\n",
       "      <td>PROPN</td>\n",
       "    </tr>\n",
       "    <tr>\n",
       "      <th>2</th>\n",
       "      <td>FDI</td>\n",
       "      <td>PROPN</td>\n",
       "      <td>PROPN</td>\n",
       "    </tr>\n",
       "    <tr>\n",
       "      <th>3</th>\n",
       "      <td>Confidence</td>\n",
       "      <td>ADJ</td>\n",
       "      <td>ADJ</td>\n",
       "    </tr>\n",
       "    <tr>\n",
       "      <th>4</th>\n",
       "      <td>Index</td>\n",
       "      <td>NOUN</td>\n",
       "      <td>NOUN</td>\n",
       "    </tr>\n",
       "    <tr>\n",
       "      <th>...</th>\n",
       "      <td>...</td>\n",
       "      <td>...</td>\n",
       "      <td>...</td>\n",
       "    </tr>\n",
       "    <tr>\n",
       "      <th>367</th>\n",
       "      <td>काम</td>\n",
       "      <td>NOUN</td>\n",
       "      <td>NOUN</td>\n",
       "    </tr>\n",
       "    <tr>\n",
       "      <th>368</th>\n",
       "      <td>कर</td>\n",
       "      <td>VERB</td>\n",
       "      <td>VERB</td>\n",
       "    </tr>\n",
       "    <tr>\n",
       "      <th>369</th>\n",
       "      <td>रही</td>\n",
       "      <td>VERB</td>\n",
       "      <td>VERB</td>\n",
       "    </tr>\n",
       "    <tr>\n",
       "      <th>370</th>\n",
       "      <td>है</td>\n",
       "      <td>VERB</td>\n",
       "      <td>VERB</td>\n",
       "    </tr>\n",
       "    <tr>\n",
       "      <th>371</th>\n",
       "      <td>।</td>\n",
       "      <td>X</td>\n",
       "      <td>X</td>\n",
       "    </tr>\n",
       "  </tbody>\n",
       "</table>\n",
       "<p>372 rows × 3 columns</p>\n",
       "</div>"
      ],
      "text/plain": [
       "           word annotator1 annotator2\n",
       "0            आज        ADJ        ADJ\n",
       "1          भारत      PROPN      PROPN\n",
       "2           FDI      PROPN      PROPN\n",
       "3    Confidence        ADJ        ADJ\n",
       "4         Index       NOUN       NOUN\n",
       "..          ...        ...        ...\n",
       "367         काम       NOUN       NOUN\n",
       "368          कर       VERB       VERB\n",
       "369         रही       VERB       VERB\n",
       "370          है       VERB       VERB\n",
       "371           ।          X          X\n",
       "\n",
       "[372 rows x 3 columns]"
      ]
     },
     "execution_count": 24,
     "metadata": {},
     "output_type": "execute_result"
    }
   ],
   "source": [
    "annotations"
   ]
  },
  {
   "cell_type": "code",
   "execution_count": null,
   "metadata": {},
   "outputs": [],
   "source": [
    "an1=annotations['annotator1']\n",
    "an2=annotations['annotator2']\n",
    "\n",
    "cohenkappa=cohen_kappa_score(ann1, ann2)"
   ]
  }
 ],
 "metadata": {
  "kernelspec": {
   "display_name": "Python 3",
   "language": "python",
   "name": "python3"
  },
  "language_info": {
   "codemirror_mode": {
    "name": "ipython",
    "version": 3
   },
   "file_extension": ".py",
   "mimetype": "text/x-python",
   "name": "python",
   "nbconvert_exporter": "python",
   "pygments_lexer": "ipython3",
   "version": "3.12.6"
  }
 },
 "nbformat": 4,
 "nbformat_minor": 2
}
